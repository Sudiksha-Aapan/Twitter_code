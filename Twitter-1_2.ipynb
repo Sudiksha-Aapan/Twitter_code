{
 "cells": [
  {
   "cell_type": "code",
   "execution_count": 1,
   "metadata": {},
   "outputs": [],
   "source": [
    "import json"
   ]
  },
  {
   "cell_type": "code",
   "execution_count": 2,
   "metadata": {},
   "outputs": [],
   "source": [
    "with open('/Users/kanhagannu/Desktop/Yuvi_RIP.json') as f:\n",
    "    data = json.load(f)"
   ]
  },
  {
   "cell_type": "code",
   "execution_count": 3,
   "metadata": {},
   "outputs": [
    {
     "data": {
      "text/plain": [
       "9189"
      ]
     },
     "execution_count": 3,
     "metadata": {},
     "output_type": "execute_result"
    }
   ],
   "source": [
    "len(data)"
   ]
  },
  {
   "cell_type": "code",
   "execution_count": 4,
   "metadata": {},
   "outputs": [
    {
     "data": {
      "text/plain": [
       "{'_id': {'$oid': '5ee1244dc51e2d8beb570717'},\n",
       " 'created_at': 'Wed Jun 10 18:19:05 +0000 2020',\n",
       " 'id': 1270782555357212700,\n",
       " 'id_str': '1270782555357212672',\n",
       " 'full_text': 'RT @PTTVOnlineNews: திமுக எம்எல்ஏ ஜெ.அன்பழகன் மறைவுக்கு சீமான் இரங்கல்..!\\n\\n| #JAnbazhagan | #RestInPeace | #DMK | #coronavirus | #Seeman ht…',\n",
       " 'truncated': False,\n",
       " 'display_text_range': [0, 140],\n",
       " 'entities': {'hashtags': [{'text': 'JAnbazhagan', 'indices': [77, 89]},\n",
       "   {'text': 'RestInPeace', 'indices': [92, 104]},\n",
       "   {'text': 'DMK', 'indices': [107, 111]},\n",
       "   {'text': 'coronavirus', 'indices': [114, 126]},\n",
       "   {'text': 'Seeman', 'indices': [129, 136]}],\n",
       "  'symbols': [],\n",
       "  'user_mentions': [{'screen_name': 'PTTVOnlineNews',\n",
       "    'name': 'PuthiyathalaimuraiTV',\n",
       "    'id': 622872390,\n",
       "    'id_str': '622872390',\n",
       "    'indices': [3, 18]}],\n",
       "  'urls': []},\n",
       " 'metadata': {'iso_language_code': 'ta', 'result_type': 'recent'},\n",
       " 'source': '<a href=\"https://mobile.twitter.com\" rel=\"nofollow\">Twitter Web App</a>',\n",
       " 'in_reply_to_status_id': None,\n",
       " 'in_reply_to_status_id_str': None,\n",
       " 'in_reply_to_user_id': None,\n",
       " 'in_reply_to_user_id_str': None,\n",
       " 'in_reply_to_screen_name': None,\n",
       " 'user': {'id': 1146440916527243300,\n",
       "  'id_str': '1146440916527243264',\n",
       "  'name': 'அதியன்',\n",
       "  'screen_name': 'YtW5iWW1hAkbMwu',\n",
       "  'location': '',\n",
       "  'description': '',\n",
       "  'url': None,\n",
       "  'entities': {'description': {'urls': []}},\n",
       "  'protected': False,\n",
       "  'followers_count': 19,\n",
       "  'friends_count': 15,\n",
       "  'listed_count': 0,\n",
       "  'created_at': 'Wed Jul 03 15:29:49 +0000 2019',\n",
       "  'favourites_count': 136,\n",
       "  'utc_offset': None,\n",
       "  'time_zone': None,\n",
       "  'geo_enabled': False,\n",
       "  'verified': False,\n",
       "  'statuses_count': 1984,\n",
       "  'lang': None,\n",
       "  'contributors_enabled': False,\n",
       "  'is_translator': False,\n",
       "  'is_translation_enabled': False,\n",
       "  'profile_background_color': 'F5F8FA',\n",
       "  'profile_background_image_url': None,\n",
       "  'profile_background_image_url_https': None,\n",
       "  'profile_background_tile': False,\n",
       "  'profile_image_url': 'http://abs.twimg.com/sticky/default_profile_images/default_profile_normal.png',\n",
       "  'profile_image_url_https': 'https://abs.twimg.com/sticky/default_profile_images/default_profile_normal.png',\n",
       "  'profile_link_color': '1DA1F2',\n",
       "  'profile_sidebar_border_color': 'C0DEED',\n",
       "  'profile_sidebar_fill_color': 'DDEEF6',\n",
       "  'profile_text_color': '333333',\n",
       "  'profile_use_background_image': True,\n",
       "  'has_extended_profile': False,\n",
       "  'default_profile': True,\n",
       "  'default_profile_image': True,\n",
       "  'following': None,\n",
       "  'follow_request_sent': None,\n",
       "  'notifications': None,\n",
       "  'translator_type': 'none'},\n",
       " 'geo': None,\n",
       " 'coordinates': None,\n",
       " 'place': None,\n",
       " 'contributors': None,\n",
       " 'retweeted_status': {'created_at': 'Wed Jun 10 06:32:16 +0000 2020',\n",
       "  'id': 1270604679680888800,\n",
       "  'id_str': '1270604679680888832',\n",
       "  'full_text': 'திமுக எம்எல்ஏ ஜெ.அன்பழகன் மறைவுக்கு சீமான் இரங்கல்..!\\n\\n| #JAnbazhagan | #RestInPeace | #DMK | #coronavirus | #Seeman https://t.co/r4W3cJQwTv',\n",
       "  'truncated': False,\n",
       "  'display_text_range': [0, 116],\n",
       "  'entities': {'hashtags': [{'text': 'JAnbazhagan', 'indices': [57, 69]},\n",
       "    {'text': 'RestInPeace', 'indices': [72, 84]},\n",
       "    {'text': 'DMK', 'indices': [87, 91]},\n",
       "    {'text': 'coronavirus', 'indices': [94, 106]},\n",
       "    {'text': 'Seeman', 'indices': [109, 116]}],\n",
       "   'symbols': [],\n",
       "   'user_mentions': [],\n",
       "   'urls': [],\n",
       "   'media': [{'id': 1270604315263029200,\n",
       "     'id_str': '1270604315263029254',\n",
       "     'indices': [117, 140],\n",
       "     'media_url': 'http://pbs.twimg.com/media/EaIX5I1U0AYC-uL.jpg',\n",
       "     'media_url_https': 'https://pbs.twimg.com/media/EaIX5I1U0AYC-uL.jpg',\n",
       "     'url': 'https://t.co/r4W3cJQwTv',\n",
       "     'display_url': 'pic.twitter.com/r4W3cJQwTv',\n",
       "     'expanded_url': 'https://twitter.com/PTTVOnlineNews/status/1270604679680888832/photo/1',\n",
       "     'type': 'photo',\n",
       "     'sizes': {'thumb': {'w': 150, 'h': 150, 'resize': 'crop'},\n",
       "      'medium': {'w': 968, 'h': 580, 'resize': 'fit'},\n",
       "      'large': {'w': 968, 'h': 580, 'resize': 'fit'},\n",
       "      'small': {'w': 680, 'h': 407, 'resize': 'fit'}}}]},\n",
       "  'extended_entities': {'media': [{'id': 1270604315263029200,\n",
       "     'id_str': '1270604315263029254',\n",
       "     'indices': [117, 140],\n",
       "     'media_url': 'http://pbs.twimg.com/media/EaIX5I1U0AYC-uL.jpg',\n",
       "     'media_url_https': 'https://pbs.twimg.com/media/EaIX5I1U0AYC-uL.jpg',\n",
       "     'url': 'https://t.co/r4W3cJQwTv',\n",
       "     'display_url': 'pic.twitter.com/r4W3cJQwTv',\n",
       "     'expanded_url': 'https://twitter.com/PTTVOnlineNews/status/1270604679680888832/photo/1',\n",
       "     'type': 'photo',\n",
       "     'sizes': {'thumb': {'w': 150, 'h': 150, 'resize': 'crop'},\n",
       "      'medium': {'w': 968, 'h': 580, 'resize': 'fit'},\n",
       "      'large': {'w': 968, 'h': 580, 'resize': 'fit'},\n",
       "      'small': {'w': 680, 'h': 407, 'resize': 'fit'}}}]},\n",
       "  'metadata': {'iso_language_code': 'ta', 'result_type': 'recent'},\n",
       "  'source': '<a href=\"https://mobile.twitter.com\" rel=\"nofollow\">Twitter Web App</a>',\n",
       "  'in_reply_to_status_id': None,\n",
       "  'in_reply_to_status_id_str': None,\n",
       "  'in_reply_to_user_id': None,\n",
       "  'in_reply_to_user_id_str': None,\n",
       "  'in_reply_to_screen_name': None,\n",
       "  'user': {'id': 622872390,\n",
       "   'id_str': '622872390',\n",
       "   'name': 'PuthiyathalaimuraiTV',\n",
       "   'screen_name': 'PTTVOnlineNews',\n",
       "   'location': 'chennai,India',\n",
       "   'description': '“உண்மை உடனுக்குடன்” என்ற நோக்குடன் நடப்பு செய்திகளை நடுநிலையோடு விரைந்து தரும் தமிழகத்தின் முன்னணி செய்தித் தொலைக்காட்சி.',\n",
       "   'url': 'https://t.co/fslgu5fcq2',\n",
       "   'entities': {'url': {'urls': [{'url': 'https://t.co/fslgu5fcq2',\n",
       "       'expanded_url': 'http://puthiyathalaimurai.com',\n",
       "       'display_url': 'puthiyathalaimurai.com',\n",
       "       'indices': [0, 23]}]},\n",
       "    'description': {'urls': []}},\n",
       "   'protected': False,\n",
       "   'followers_count': 887314,\n",
       "   'friends_count': 9,\n",
       "   'listed_count': 765,\n",
       "   'created_at': 'Sat Jun 30 12:52:07 +0000 2012',\n",
       "   'favourites_count': 216,\n",
       "   'utc_offset': None,\n",
       "   'time_zone': None,\n",
       "   'geo_enabled': True,\n",
       "   'verified': True,\n",
       "   'statuses_count': 296798,\n",
       "   'lang': None,\n",
       "   'contributors_enabled': False,\n",
       "   'is_translator': False,\n",
       "   'is_translation_enabled': False,\n",
       "   'profile_background_color': 'ACDED6',\n",
       "   'profile_background_image_url': 'http://abs.twimg.com/images/themes/theme1/bg.png',\n",
       "   'profile_background_image_url_https': 'https://abs.twimg.com/images/themes/theme1/bg.png',\n",
       "   'profile_background_tile': False,\n",
       "   'profile_image_url': 'http://pbs.twimg.com/profile_images/1223438109922058240/_9xgF5lm_normal.jpg',\n",
       "   'profile_image_url_https': 'https://pbs.twimg.com/profile_images/1223438109922058240/_9xgF5lm_normal.jpg',\n",
       "   'profile_banner_url': 'https://pbs.twimg.com/profile_banners/622872390/1585993049',\n",
       "   'profile_link_color': '19CF86',\n",
       "   'profile_sidebar_border_color': 'FFFFFF',\n",
       "   'profile_sidebar_fill_color': 'DDEEF6',\n",
       "   'profile_text_color': '333333',\n",
       "   'profile_use_background_image': True,\n",
       "   'has_extended_profile': True,\n",
       "   'default_profile': False,\n",
       "   'default_profile_image': False,\n",
       "   'following': None,\n",
       "   'follow_request_sent': None,\n",
       "   'notifications': None,\n",
       "   'translator_type': 'none'},\n",
       "  'geo': None,\n",
       "  'coordinates': None,\n",
       "  'place': None,\n",
       "  'contributors': None,\n",
       "  'is_quote_status': False,\n",
       "  'retweet_count': 90,\n",
       "  'favorite_count': 362,\n",
       "  'favorited': False,\n",
       "  'retweeted': False,\n",
       "  'possibly_sensitive': False,\n",
       "  'lang': 'ta'},\n",
       " 'is_quote_status': False,\n",
       " 'retweet_count': 90,\n",
       " 'favorite_count': 0,\n",
       " 'favorited': False,\n",
       " 'retweeted': False,\n",
       " 'lang': 'ta'}"
      ]
     },
     "execution_count": 4,
     "metadata": {},
     "output_type": "execute_result"
    }
   ],
   "source": [
    "data[0]"
   ]
  },
  {
   "cell_type": "code",
   "execution_count": 5,
   "metadata": {},
   "outputs": [],
   "source": [
    "tweets_yuvi = 0\n",
    "tweets_rest = 0\n",
    "tweets_both = 0\n",
    "uy = {}\n",
    "ur = {}\n",
    "uyr = {}"
   ]
  },
  {
   "cell_type": "code",
   "execution_count": 6,
   "metadata": {},
   "outputs": [],
   "source": [
    "from collections import defaultdict \n",
    "y_tag = defaultdict (int)\n",
    "r_tag = defaultdict (int)\n",
    "yr_tag = defaultdict (int)"
   ]
  },
  {
   "cell_type": "code",
   "execution_count": 7,
   "metadata": {},
   "outputs": [],
   "source": [
    "for i in range(len(data)):\n",
    "    if len(data[i]['entities']['hashtags'])==1:\n",
    "        if data[i]['entities']['hashtags'][0]['text']=='MissYouYuvi':\n",
    "            tweets_yuvi+=1\n",
    "            d = data[i]['created_at'].split()[3].split(':')[0]\n",
    "            y_tag[d]+=1\n",
    "            s = data[i]['user']['id_str']\n",
    "            if data[i]['user']['verified']==True:\n",
    "                uy[s] = 1\n",
    "            else:\n",
    "                uy[s] = 0"
   ]
  },
  {
   "cell_type": "code",
   "execution_count": 8,
   "metadata": {
    "scrolled": true
   },
   "outputs": [],
   "source": [
    "for i in range(len(data)):\n",
    "    if len(data[i]['entities']['hashtags'])==1:\n",
    "        if data[i]['entities']['hashtags'][0]['text']=='RestInPeace':\n",
    "            tweets_rest+=1\n",
    "            d = data[i]['created_at'].split()[3].split(':')[0]\n",
    "            r_tag[d]+=1\n",
    "            s = data[i]['user']['id_str']\n",
    "            if data[i]['user']['verified']==True:\n",
    "                ur[s] = 1\n",
    "            else:\n",
    "                ur[s] = 0"
   ]
  },
  {
   "cell_type": "code",
   "execution_count": 9,
   "metadata": {},
   "outputs": [],
   "source": [
    "for i in range(len(data)):\n",
    "    if len(data[i]['entities']['hashtags'])==2:\n",
    "        if (data[i]['entities']['hashtags'][0]['text']==('RestInPeace' or 'MissYouYuvi'))and(data[i]['entities']['hashtags'][1]['text']==('RestInPeace' or 'MissYouYuvi')):\n",
    "            tweets_both+=1\n",
    "            d = data[i]['created_at'].split()[3].split(':')[0]\n",
    "            yr_tag[d]+=1\n",
    "            s = data[i]['user']['id_str']\n",
    "            if data[i]['user']['verified']==True:\n",
    "                uyr[s] = 1\n",
    "            else:\n",
    "                uyr[s] = 0"
   ]
  },
  {
   "cell_type": "code",
   "execution_count": 10,
   "metadata": {},
   "outputs": [],
   "source": [
    "ver_y = 0\n",
    "uver_y = 0\n",
    "for key in uy:\n",
    "    if uy[key]==1:\n",
    "        ver_y+=1\n",
    "    else:\n",
    "        uver_y+=1\n",
    "ver_r = 0\n",
    "uver_r = 0\n",
    "for key in ur:\n",
    "    if ur[key]==1:\n",
    "        ver_r+=1\n",
    "    else:\n",
    "        uver_r+=1\n",
    "ver_yr = 0\n",
    "uver_yr = 0\n",
    "for key in uyr:\n",
    "    if uyr[key]==1:\n",
    "        ver_yr+=1\n",
    "    else:\n",
    "        uver_yr+=1"
   ]
  },
  {
   "cell_type": "code",
   "execution_count": 11,
   "metadata": {},
   "outputs": [
    {
     "data": {
      "text/plain": [
       "(4606, 90, 0)"
      ]
     },
     "execution_count": 11,
     "metadata": {},
     "output_type": "execute_result"
    }
   ],
   "source": [
    "tweets_yuvi,tweets_rest,tweets_both"
   ]
  },
  {
   "cell_type": "code",
   "execution_count": 12,
   "metadata": {},
   "outputs": [
    {
     "data": {
      "text/plain": [
       "(10, 1231, 1, 83, 0, 0)"
      ]
     },
     "execution_count": 12,
     "metadata": {},
     "output_type": "execute_result"
    }
   ],
   "source": [
    "ver_y,uver_y,ver_r,uver_r,ver_yr,uver_yr"
   ]
  },
  {
   "cell_type": "code",
   "execution_count": 13,
   "metadata": {},
   "outputs": [
    {
     "data": {
      "text/plain": [
       "['09', '10', '11', '12', '13', '14', '15', '16', '17', '18']"
      ]
     },
     "execution_count": 13,
     "metadata": {},
     "output_type": "execute_result"
    }
   ],
   "source": [
    "date = sorted(list(y_tag.keys()))\n",
    "date"
   ]
  },
  {
   "cell_type": "code",
   "execution_count": 14,
   "metadata": {},
   "outputs": [],
   "source": [
    "bar1 = [y_tag[i] for i in date]\n",
    "bar2 = [r_tag[i] for i in date]\n",
    "bar3 = [yr_tag[i] for i in date]"
   ]
  },
  {
   "cell_type": "code",
   "execution_count": 16,
   "metadata": {},
   "outputs": [
    {
     "data": {
      "image/png": "[encoded data removed]",
      "text/plain": [
       "<Figure size 432x288 with 1 Axes>"
      ]
     },
     "metadata": {
      "needs_background": "light"
     },
     "output_type": "display_data"
    },
    {
     "data": {
      "text/plain": [
       "<Figure size 2160x720 with 0 Axes>"
      ]
     },
     "metadata": {},
     "output_type": "display_data"
    }
   ],
   "source": [
    "import numpy as np\n",
    "import matplotlib.pyplot as plt\n",
    "barWidth = 0.7\n",
    "# The x position of bars\n",
    "r1 = np.arange(len(bar1))*3\n",
    "r2 = [x + barWidth for x in r1]\n",
    "r3 = [x + barWidth for x in r2]\n",
    "\n",
    "plt.bar(r1, bar1, width = barWidth, color = 'blue', edgecolor = 'black', capsize=7, label='#yuvi',align='edge')\n",
    "plt.bar(r2, bar2, width = barWidth, color = 'yellow', edgecolor = 'black', capsize=7, label='#rest_piece',align='edge')\n",
    "plt.bar(r3, bar3, width = barWidth, color = 'red', edgecolor = 'black', capsize=7, label='#both',align='edge')\n",
    "\n",
    "# general layout\n",
    "plt.xticks([r + barWidth for r in r1], date)\n",
    "plt.ylabel('count of tweet')\n",
    "plt.legend()\n",
    "plt.figure(figsize=(30, 10))\n",
    "# Show graphic\n",
    "plt.show()"
   ]
  },
  {
   "cell_type": "code",
   "execution_count": null,
   "metadata": {},
   "outputs": [],
   "source": []
  },
  {
   "cell_type": "code",
   "execution_count": null,
   "metadata": {},
   "outputs": [],
   "source": []
  }
 ],
 "metadata": {
  "kernelspec": {
   "display_name": "Python 3",
   "language": "python",
   "name": "python3"
  },
  "language_info": {
   "codemirror_mode": {
    "name": "ipython",
    "version": 3
   },
   "file_extension": ".py",
   "mimetype": "text/x-python",
   "name": "python",
   "nbconvert_exporter": "python",
   "pygments_lexer": "ipython3",
   "version": "3.7.3"
  }
 },
 "nbformat": 4,
 "nbformat_minor": 2
}
